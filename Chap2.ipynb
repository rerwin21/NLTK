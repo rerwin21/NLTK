{
 "cells": [
  {
   "cell_type": "markdown",
   "metadata": {},
   "source": [
    "# Chapter of 2: NLTK\n",
    "Working with corpora and getting the hang of some of NLTK's functions."
   ]
  },
  {
   "cell_type": "code",
   "execution_count": 3,
   "metadata": {
    "collapsed": true
   },
   "outputs": [],
   "source": [
    "from nltk.corpus import brown"
   ]
  },
  {
   "cell_type": "markdown",
   "metadata": {},
   "source": [
    "I'm going to create a list of tuples to be used in the `ConditionalFreqDist` function. The function expects pairs in the form of `(condition, event)`, where the condition can be thought of as a category and the event is an actual word/occurence in the text."
   ]
  },
  {
   "cell_type": "code",
   "execution_count": 2,
   "metadata": {
    "collapsed": false
   },
   "outputs": [
    {
     "data": {
      "text/plain": [
       "[u'adventure',\n",
       " u'belles_lettres',\n",
       " u'editorial',\n",
       " u'fiction',\n",
       " u'government',\n",
       " u'hobbies',\n",
       " u'humor',\n",
       " u'learned',\n",
       " u'lore',\n",
       " u'mystery',\n",
       " u'news',\n",
       " u'religion',\n",
       " u'reviews',\n",
       " u'romance',\n",
       " u'science_fiction']"
      ]
     },
     "execution_count": 2,
     "metadata": {},
     "output_type": "execute_result"
    }
   ],
   "source": [
    "# first take a look at categories\n",
    "brown.categories()"
   ]
  },
  {
   "cell_type": "code",
   "execution_count": 7,
   "metadata": {
    "collapsed": true
   },
   "outputs": [],
   "source": [
    "pair_list = [(genre, word) for genre in brown.categories() for word in brown.words(categories=genre)]"
   ]
  },
  {
   "cell_type": "code",
   "execution_count": 5,
   "metadata": {
    "collapsed": false
   },
   "outputs": [
    {
     "data": {
      "text/plain": [
       "[(u'adventure', u'Dan'),\n",
       " (u'adventure', u'Morgan'),\n",
       " (u'adventure', u'told'),\n",
       " (u'adventure', u'himself'),\n",
       " (u'adventure', u'he'),\n",
       " (u'adventure', u'would'),\n",
       " (u'adventure', u'forget'),\n",
       " (u'adventure', u'Ann'),\n",
       " (u'adventure', u'Turner'),\n",
       " (u'adventure', u'.'),\n",
       " (u'adventure', u'He'),\n",
       " (u'adventure', u'was'),\n",
       " (u'adventure', u'well'),\n",
       " (u'adventure', u'rid'),\n",
       " (u'adventure', u'of'),\n",
       " (u'adventure', u'her'),\n",
       " (u'adventure', u'.'),\n",
       " (u'adventure', u'He'),\n",
       " (u'adventure', u'certainly'),\n",
       " (u'adventure', u\"didn't\")]"
      ]
     },
     "execution_count": 5,
     "metadata": {},
     "output_type": "execute_result"
    }
   ],
   "source": [
    "pair_list[:20]"
   ]
  },
  {
   "cell_type": "code",
   "execution_count": 4,
   "metadata": {
    "collapsed": true
   },
   "outputs": [],
   "source": [
    "import nltk"
   ]
  },
  {
   "cell_type": "code",
   "execution_count": 11,
   "metadata": {
    "collapsed": true
   },
   "outputs": [],
   "source": [
    "cfd = nltk.ConditionalFreqDist(pair_list)"
   ]
  },
  {
   "cell_type": "code",
   "execution_count": null,
   "metadata": {
    "collapsed": false
   },
   "outputs": [],
   "source": [
    "# cfd.plot() take a very long time!"
   ]
  },
  {
   "cell_type": "code",
   "execution_count": 5,
   "metadata": {
    "collapsed": false
   },
   "outputs": [
    {
     "name": "stdout",
     "output_type": "stream",
     "text": [
      "1 loops, best of 3: 2.65 s per loop\n"
     ]
    }
   ],
   "source": [
    "%%timeit # 2.5 seconds, not too bad for 1.1m words\n",
    "pair_list = [(genre, word) for genre in brown.categories() for word in brown.words(categories=genre)]"
   ]
  },
  {
   "cell_type": "code",
   "execution_count": 9,
   "metadata": {
    "collapsed": false
   },
   "outputs": [
    {
     "data": {
      "text/plain": [
       "'1,161,192'"
      ]
     },
     "execution_count": 9,
     "metadata": {},
     "output_type": "execute_result"
    }
   ],
   "source": [
    "'{:,.0f}'.format(len(pair_list)) # 1.1m words!"
   ]
  },
  {
   "cell_type": "code",
   "execution_count": 13,
   "metadata": {
    "collapsed": false
   },
   "outputs": [
    {
     "data": {
      "text/plain": [
       "[u'mystery',\n",
       " u'belles_lettres',\n",
       " u'humor',\n",
       " u'government',\n",
       " u'fiction',\n",
       " u'reviews',\n",
       " u'religion',\n",
       " u'romance',\n",
       " u'science_fiction',\n",
       " u'adventure',\n",
       " u'editorial',\n",
       " u'hobbies',\n",
       " u'lore',\n",
       " u'news',\n",
       " u'learned']"
      ]
     },
     "execution_count": 13,
     "metadata": {},
     "output_type": "execute_result"
    }
   ],
   "source": [
    "cfd.conditions() # same as text.categories()"
   ]
  },
  {
   "cell_type": "code",
   "execution_count": 16,
   "metadata": {
    "collapsed": false
   },
   "outputs": [
    {
     "name": "stdout",
     "output_type": "stream",
     "text": [
      "        Acting According \n",
      "mystery    3    3 \n",
      "  humor    0    1 \n"
     ]
    }
   ],
   "source": [
    "# how many times did acting and according occur in mystery or humor\n",
    "cfd.tabulate(conditions=['mystery', 'humor'],\n",
    "             samples=['Acting', 'According'])"
   ]
  },
  {
   "cell_type": "code",
   "execution_count": null,
   "metadata": {
    "collapsed": true
   },
   "outputs": [],
   "source": []
  }
 ],
 "metadata": {
  "kernelspec": {
   "display_name": "Python 2",
   "language": "python",
   "name": "python2"
  },
  "language_info": {
   "codemirror_mode": {
    "name": "ipython",
    "version": 2
   },
   "file_extension": ".py",
   "mimetype": "text/x-python",
   "name": "python",
   "nbconvert_exporter": "python",
   "pygments_lexer": "ipython2",
   "version": "2.7.11"
  }
 },
 "nbformat": 4,
 "nbformat_minor": 0
}
